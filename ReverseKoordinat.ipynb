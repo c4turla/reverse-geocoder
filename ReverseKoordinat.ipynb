{
 "cells": [
  {
   "cell_type": "markdown",
   "id": "6061fbbe",
   "metadata": {},
   "source": [
    "## Cara Mendapatkan Alamat dari Titik Koordinat"
   ]
  },
  {
   "cell_type": "markdown",
   "id": "b3063164",
   "metadata": {},
   "source": [
    "#### Import Library Python"
   ]
  },
  {
   "cell_type": "code",
   "execution_count": 1,
   "id": "589e2ff9",
   "metadata": {},
   "outputs": [],
   "source": [
    "import pandas as pd\n",
    "import geopy\n",
    "from geopy.geocoders import Nominatim\n",
    "from geopy.extra.rate_limiter import RateLimiter\n",
    "from tqdm import tqdm, tqdm_pandas"
   ]
  },
  {
   "cell_type": "markdown",
   "id": "f7245372",
   "metadata": {},
   "source": [
    "#### Load File csv"
   ]
  },
  {
   "cell_type": "code",
   "execution_count": 2,
   "id": "f802d532",
   "metadata": {},
   "outputs": [],
   "source": [
    "df = pd.read_csv(\"100longlat.csv\")"
   ]
  },
  {
   "cell_type": "code",
   "execution_count": 3,
   "id": "b5834374",
   "metadata": {},
   "outputs": [
    {
     "data": {
      "text/html": [
       "<div>\n",
       "<style scoped>\n",
       "    .dataframe tbody tr th:only-of-type {\n",
       "        vertical-align: middle;\n",
       "    }\n",
       "\n",
       "    .dataframe tbody tr th {\n",
       "        vertical-align: top;\n",
       "    }\n",
       "\n",
       "    .dataframe thead th {\n",
       "        text-align: right;\n",
       "    }\n",
       "</style>\n",
       "<table border=\"1\" class=\"dataframe\">\n",
       "  <thead>\n",
       "    <tr style=\"text-align: right;\">\n",
       "      <th></th>\n",
       "      <th>lat</th>\n",
       "      <th>long</th>\n",
       "    </tr>\n",
       "  </thead>\n",
       "  <tbody>\n",
       "    <tr>\n",
       "      <th>0</th>\n",
       "      <td>-6.157899</td>\n",
       "      <td>106.714766</td>\n",
       "    </tr>\n",
       "    <tr>\n",
       "      <th>1</th>\n",
       "      <td>-6.147005</td>\n",
       "      <td>106.691780</td>\n",
       "    </tr>\n",
       "    <tr>\n",
       "      <th>2</th>\n",
       "      <td>-6.141758</td>\n",
       "      <td>106.694437</td>\n",
       "    </tr>\n",
       "    <tr>\n",
       "      <th>3</th>\n",
       "      <td>-6.164021</td>\n",
       "      <td>106.699431</td>\n",
       "    </tr>\n",
       "    <tr>\n",
       "      <th>4</th>\n",
       "      <td>-6.158809</td>\n",
       "      <td>106.699268</td>\n",
       "    </tr>\n",
       "    <tr>\n",
       "      <th>5</th>\n",
       "      <td>-6.146962</td>\n",
       "      <td>106.691994</td>\n",
       "    </tr>\n",
       "    <tr>\n",
       "      <th>6</th>\n",
       "      <td>-6.181146</td>\n",
       "      <td>106.850512</td>\n",
       "    </tr>\n",
       "    <tr>\n",
       "      <th>7</th>\n",
       "      <td>-6.177494</td>\n",
       "      <td>106.846014</td>\n",
       "    </tr>\n",
       "    <tr>\n",
       "      <th>8</th>\n",
       "      <td>-6.180616</td>\n",
       "      <td>106.870279</td>\n",
       "    </tr>\n",
       "    <tr>\n",
       "      <th>9</th>\n",
       "      <td>-6.184740</td>\n",
       "      <td>106.849904</td>\n",
       "    </tr>\n",
       "  </tbody>\n",
       "</table>\n",
       "</div>"
      ],
      "text/plain": [
       "        lat        long\n",
       "0 -6.157899  106.714766\n",
       "1 -6.147005  106.691780\n",
       "2 -6.141758  106.694437\n",
       "3 -6.164021  106.699431\n",
       "4 -6.158809  106.699268\n",
       "5 -6.146962  106.691994\n",
       "6 -6.181146  106.850512\n",
       "7 -6.177494  106.846014\n",
       "8 -6.180616  106.870279\n",
       "9 -6.184740  106.849904"
      ]
     },
     "execution_count": 3,
     "metadata": {},
     "output_type": "execute_result"
    }
   ],
   "source": [
    "df.head(10)"
   ]
  },
  {
   "cell_type": "markdown",
   "id": "e9ba9c84",
   "metadata": {},
   "source": [
    "#### Gabungkan kolom lat dan long kemudian pisahkan dengan koma"
   ]
  },
  {
   "cell_type": "code",
   "execution_count": 4,
   "id": "eb4a5b82",
   "metadata": {},
   "outputs": [],
   "source": [
    "df[\"geom\"] = df[\"lat\"].map(str) + ',' + df[\"long\"].map(str)"
   ]
  },
  {
   "cell_type": "code",
   "execution_count": 5,
   "id": "a945d23b",
   "metadata": {},
   "outputs": [
    {
     "data": {
      "text/plain": [
       "'-6.15789944,106.714766'"
      ]
     },
     "execution_count": 5,
     "metadata": {},
     "output_type": "execute_result"
    }
   ],
   "source": [
    "df[\"geom\"][0]"
   ]
  },
  {
   "cell_type": "code",
   "execution_count": 6,
   "id": "988f59e3",
   "metadata": {},
   "outputs": [],
   "source": [
    "locator = Nominatim(user_agent=\"myGeocoder\", timeout=10)\n",
    "\n",
    "rgeocode = RateLimiter(locator.reverse, min_delay_seconds=0.001)"
   ]
  },
  {
   "cell_type": "code",
   "execution_count": 7,
   "id": "e72cd6eb",
   "metadata": {},
   "outputs": [],
   "source": [
    "tqdm.pandas()"
   ]
  },
  {
   "cell_type": "markdown",
   "id": "5315ccfa",
   "metadata": {},
   "source": [
    "#### Tambahkan Kolom Alamat dan proses Koordinatnya"
   ]
  },
  {
   "cell_type": "code",
   "execution_count": 8,
   "id": "d02109cb",
   "metadata": {},
   "outputs": [
    {
     "name": "stderr",
     "output_type": "stream",
     "text": [
      "100%|██████████| 99/99 [00:51<00:00,  1.93it/s]\n"
     ]
    }
   ],
   "source": [
    "df['alamat'] = df['geom'].progress_apply(rgeocode)"
   ]
  },
  {
   "cell_type": "code",
   "execution_count": 9,
   "id": "716baddd",
   "metadata": {},
   "outputs": [
    {
     "data": {
      "text/html": [
       "<div>\n",
       "<style scoped>\n",
       "    .dataframe tbody tr th:only-of-type {\n",
       "        vertical-align: middle;\n",
       "    }\n",
       "\n",
       "    .dataframe tbody tr th {\n",
       "        vertical-align: top;\n",
       "    }\n",
       "\n",
       "    .dataframe thead th {\n",
       "        text-align: right;\n",
       "    }\n",
       "</style>\n",
       "<table border=\"1\" class=\"dataframe\">\n",
       "  <thead>\n",
       "    <tr style=\"text-align: right;\">\n",
       "      <th></th>\n",
       "      <th>lat</th>\n",
       "      <th>long</th>\n",
       "      <th>geom</th>\n",
       "      <th>alamat</th>\n",
       "    </tr>\n",
       "  </thead>\n",
       "  <tbody>\n",
       "    <tr>\n",
       "      <th>0</th>\n",
       "      <td>-6.157899</td>\n",
       "      <td>106.714766</td>\n",
       "      <td>-6.15789944,106.714766</td>\n",
       "      <td>(Jalan Duri Semanan, RW 13, Semanan, Kalideres...</td>\n",
       "    </tr>\n",
       "    <tr>\n",
       "      <th>1</th>\n",
       "      <td>-6.147005</td>\n",
       "      <td>106.691780</td>\n",
       "      <td>-6.14700474,106.69177988</td>\n",
       "      <td>(Jalan Alam Barat, RW 10, Kalideres, Jakarta B...</td>\n",
       "    </tr>\n",
       "    <tr>\n",
       "      <th>2</th>\n",
       "      <td>-6.141758</td>\n",
       "      <td>106.694437</td>\n",
       "      <td>-6.14175781,106.69443692</td>\n",
       "      <td>(Masjid Jami' Almarhumah, Jalan Peta Barat, RW...</td>\n",
       "    </tr>\n",
       "    <tr>\n",
       "      <th>3</th>\n",
       "      <td>-6.164021</td>\n",
       "      <td>106.699431</td>\n",
       "      <td>-6.16402146,106.69943142</td>\n",
       "      <td>(RW 10, Semanan, Kalideres, Jakarta Barat, Dae...</td>\n",
       "    </tr>\n",
       "    <tr>\n",
       "      <th>4</th>\n",
       "      <td>-6.158809</td>\n",
       "      <td>106.699268</td>\n",
       "      <td>-6.15880909,106.69926776</td>\n",
       "      <td>(Jalan Daan Mogot, RW 02, Kalideres, Kebon Bes...</td>\n",
       "    </tr>\n",
       "    <tr>\n",
       "      <th>5</th>\n",
       "      <td>-6.146962</td>\n",
       "      <td>106.691994</td>\n",
       "      <td>-6.14696172,106.69199397</td>\n",
       "      <td>(Jalan Alam Barat, RW 10, Kalideres, Jakarta B...</td>\n",
       "    </tr>\n",
       "    <tr>\n",
       "      <th>6</th>\n",
       "      <td>-6.181146</td>\n",
       "      <td>106.850512</td>\n",
       "      <td>-6.18114581331611,106.850511850789</td>\n",
       "      <td>(Jalan Tanah Tinggi 12, RW 12, Tanah Tinggi, J...</td>\n",
       "    </tr>\n",
       "    <tr>\n",
       "      <th>7</th>\n",
       "      <td>-6.177494</td>\n",
       "      <td>106.846014</td>\n",
       "      <td>-6.17749423719943,106.846014373004</td>\n",
       "      <td>(Masjid Jami An Nur, Jalan Tanah Tinggi I, RW ...</td>\n",
       "    </tr>\n",
       "    <tr>\n",
       "      <th>8</th>\n",
       "      <td>-6.180616</td>\n",
       "      <td>106.870279</td>\n",
       "      <td>-6.18061621,106.87027856</td>\n",
       "      <td>(Masjid Jami Al Hikmah, Jalan Cempaka Warna I,...</td>\n",
       "    </tr>\n",
       "    <tr>\n",
       "      <th>9</th>\n",
       "      <td>-6.184740</td>\n",
       "      <td>106.849904</td>\n",
       "      <td>-6.18474041,106.84990392</td>\n",
       "      <td>(Jalan Kramat Pulo Gundul, RW 10, Tanah Tinggi...</td>\n",
       "    </tr>\n",
       "  </tbody>\n",
       "</table>\n",
       "</div>"
      ],
      "text/plain": [
       "        lat        long                                geom  \\\n",
       "0 -6.157899  106.714766              -6.15789944,106.714766   \n",
       "1 -6.147005  106.691780            -6.14700474,106.69177988   \n",
       "2 -6.141758  106.694437            -6.14175781,106.69443692   \n",
       "3 -6.164021  106.699431            -6.16402146,106.69943142   \n",
       "4 -6.158809  106.699268            -6.15880909,106.69926776   \n",
       "5 -6.146962  106.691994            -6.14696172,106.69199397   \n",
       "6 -6.181146  106.850512  -6.18114581331611,106.850511850789   \n",
       "7 -6.177494  106.846014  -6.17749423719943,106.846014373004   \n",
       "8 -6.180616  106.870279            -6.18061621,106.87027856   \n",
       "9 -6.184740  106.849904            -6.18474041,106.84990392   \n",
       "\n",
       "                                              alamat  \n",
       "0  (Jalan Duri Semanan, RW 13, Semanan, Kalideres...  \n",
       "1  (Jalan Alam Barat, RW 10, Kalideres, Jakarta B...  \n",
       "2  (Masjid Jami' Almarhumah, Jalan Peta Barat, RW...  \n",
       "3  (RW 10, Semanan, Kalideres, Jakarta Barat, Dae...  \n",
       "4  (Jalan Daan Mogot, RW 02, Kalideres, Kebon Bes...  \n",
       "5  (Jalan Alam Barat, RW 10, Kalideres, Jakarta B...  \n",
       "6  (Jalan Tanah Tinggi 12, RW 12, Tanah Tinggi, J...  \n",
       "7  (Masjid Jami An Nur, Jalan Tanah Tinggi I, RW ...  \n",
       "8  (Masjid Jami Al Hikmah, Jalan Cempaka Warna I,...  \n",
       "9  (Jalan Kramat Pulo Gundul, RW 10, Tanah Tinggi...  "
      ]
     },
     "execution_count": 9,
     "metadata": {},
     "output_type": "execute_result"
    }
   ],
   "source": [
    "df.head(10)"
   ]
  },
  {
   "cell_type": "markdown",
   "id": "171f0947",
   "metadata": {},
   "source": [
    "#### Export Hasilnya ke file csv baru"
   ]
  },
  {
   "cell_type": "code",
   "execution_count": 19,
   "id": "167643bb",
   "metadata": {},
   "outputs": [],
   "source": [
    "df.to_csv(\"hasil100.csv\")"
   ]
  },
  {
   "cell_type": "code",
   "execution_count": null,
   "id": "dd135642",
   "metadata": {},
   "outputs": [],
   "source": []
  }
 ],
 "metadata": {
  "kernelspec": {
   "display_name": "Python 3 (ipykernel)",
   "language": "python",
   "name": "python3"
  },
  "language_info": {
   "codemirror_mode": {
    "name": "ipython",
    "version": 3
   },
   "file_extension": ".py",
   "mimetype": "text/x-python",
   "name": "python",
   "nbconvert_exporter": "python",
   "pygments_lexer": "ipython3",
   "version": "3.9.7"
  }
 },
 "nbformat": 4,
 "nbformat_minor": 5
}
